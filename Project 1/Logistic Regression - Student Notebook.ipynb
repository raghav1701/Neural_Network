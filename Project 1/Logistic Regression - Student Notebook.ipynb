{
 "cells": [
  {
   "cell_type": "markdown",
   "metadata": {},
   "source": [
    "![Rhyme](https://rhyme.com/assets/img/logo-dark.png)\n",
    "\n",
    "# Deep Learning Fundamentals - Logistic Regression\n",
    "\n",
    "# Task 1: Introduction"
   ]
  },
  {
   "cell_type": "code",
   "execution_count": 1,
   "metadata": {},
   "outputs": [
    {
     "name": "stderr",
     "output_type": "stream",
     "text": [
      "/Users/conda/opt/anaconda3/envs/tensor/lib/python3.7/site-packages/tensorflow/python/framework/dtypes.py:526: FutureWarning: Passing (type, 1) or '1type' as a synonym of type is deprecated; in a future version of numpy, it will be understood as (type, (1,)) / '(1,)type'.\n",
      "  _np_qint8 = np.dtype([(\"qint8\", np.int8, 1)])\n",
      "/Users/conda/opt/anaconda3/envs/tensor/lib/python3.7/site-packages/tensorflow/python/framework/dtypes.py:527: FutureWarning: Passing (type, 1) or '1type' as a synonym of type is deprecated; in a future version of numpy, it will be understood as (type, (1,)) / '(1,)type'.\n",
      "  _np_quint8 = np.dtype([(\"quint8\", np.uint8, 1)])\n",
      "/Users/conda/opt/anaconda3/envs/tensor/lib/python3.7/site-packages/tensorflow/python/framework/dtypes.py:528: FutureWarning: Passing (type, 1) or '1type' as a synonym of type is deprecated; in a future version of numpy, it will be understood as (type, (1,)) / '(1,)type'.\n",
      "  _np_qint16 = np.dtype([(\"qint16\", np.int16, 1)])\n",
      "/Users/conda/opt/anaconda3/envs/tensor/lib/python3.7/site-packages/tensorflow/python/framework/dtypes.py:529: FutureWarning: Passing (type, 1) or '1type' as a synonym of type is deprecated; in a future version of numpy, it will be understood as (type, (1,)) / '(1,)type'.\n",
      "  _np_quint16 = np.dtype([(\"quint16\", np.uint16, 1)])\n",
      "/Users/conda/opt/anaconda3/envs/tensor/lib/python3.7/site-packages/tensorflow/python/framework/dtypes.py:530: FutureWarning: Passing (type, 1) or '1type' as a synonym of type is deprecated; in a future version of numpy, it will be understood as (type, (1,)) / '(1,)type'.\n",
      "  _np_qint32 = np.dtype([(\"qint32\", np.int32, 1)])\n",
      "/Users/conda/opt/anaconda3/envs/tensor/lib/python3.7/site-packages/tensorflow/python/framework/dtypes.py:535: FutureWarning: Passing (type, 1) or '1type' as a synonym of type is deprecated; in a future version of numpy, it will be understood as (type, (1,)) / '(1,)type'.\n",
      "  np_resource = np.dtype([(\"resource\", np.ubyte, 1)])\n"
     ]
    },
    {
     "name": "stdout",
     "output_type": "stream",
     "text": [
      "Libraries imported\n"
     ]
    }
   ],
   "source": [
    "import random\n",
    "import numpy as np\n",
    "import warnings\n",
    "import helpers.plt, helpers.dataset\n",
    "from matplotlib import pyplot as plt\n",
    "%matplotlib inline\n",
    "warnings.filterwarnings('ignore')\n",
    "print('Libraries imported')"
   ]
  },
  {
   "cell_type": "markdown",
   "metadata": {},
   "source": [
    "# Task 2: Hyperparameters"
   ]
  },
  {
   "cell_type": "code",
   "execution_count": 2,
   "metadata": {
    "tags": [
     "parameters"
    ]
   },
   "outputs": [],
   "source": [
    "lr = 0.3\n",
    "batch_size = 300\n",
    "iterations = 40"
   ]
  },
  {
   "cell_type": "markdown",
   "metadata": {},
   "source": [
    "# Task 3: Dataset"
   ]
  },
  {
   "cell_type": "code",
   "execution_count": 3,
   "metadata": {},
   "outputs": [
    {
     "name": "stdout",
     "output_type": "stream",
     "text": [
      "Loading data..\n",
      "Done.\n"
     ]
    }
   ],
   "source": [
    "(X_train,Y_train),(X_test,Y_test) = helpers.dataset.get_data()"
   ]
  },
  {
   "cell_type": "code",
   "execution_count": 4,
   "metadata": {},
   "outputs": [
    {
     "name": "stdout",
     "output_type": "stream",
     "text": [
      "Shape of X_train: (12665, 28, 28)\n",
      "Shape of Y_train: (12665,)\n",
      "Shape of X_test: (2115, 28, 28)\n",
      "Shape of Y_test: (2115,)\n"
     ]
    }
   ],
   "source": [
    "print('Shape of X_train:', X_train.shape)\n",
    "#Training set of 12665 samples with 28 by 28 dimension pictures\n",
    "print('Shape of Y_train:', Y_train.shape)\n",
    "print('Shape of X_test:', X_test.shape)\n",
    "print('Shape of Y_test:', Y_test.shape)"
   ]
  },
  {
   "cell_type": "code",
   "execution_count": 5,
   "metadata": {},
   "outputs": [
    {
     "data": {
      "image/png": "[encoded data removed]",
      "text/plain": [
       "<Figure size 432x288 with 1 Axes>"
      ]
     },
     "metadata": {},
     "output_type": "display_data"
    }
   ],
   "source": [
    "helpers.plt.show_example(X_train[0],Y_train[0])\n",
    "#Y_train is used for label, X_Train is the image dataset"
   ]
  },
  {
   "cell_type": "code",
   "execution_count": 6,
   "metadata": {},
   "outputs": [
    {
     "data": {
      "image/png": "[encoded data removed]",
      "text/plain": [
       "<Figure size 432x288 with 1 Axes>"
      ]
     },
     "metadata": {},
     "output_type": "display_data"
    }
   ],
   "source": [
    "helpers.plt.show_example(X_test[0],Y_train[0])"
   ]
  },
  {
   "cell_type": "markdown",
   "metadata": {},
   "source": [
    "# Task 4: A Mini Batch of Examples"
   ]
  },
  {
   "cell_type": "code",
   "execution_count": 7,
   "metadata": {},
   "outputs": [
    {
     "name": "stdout",
     "output_type": "stream",
     "text": [
      "X_batch shape (1, 784)\n"
     ]
    },
    {
     "data": {
      "image/png": "[encoded data removed]",
      "text/plain": [
       "<Figure size 432x288 with 1 Axes>"
      ]
     },
     "metadata": {},
     "output_type": "display_data"
    }
   ],
   "source": [
    "X_batch, Y_batch = helpers.dataset.get_random_batch(X_train,Y_train,1)\n",
    "#took a rabdom picture and converted its 28 by 28 pixel value to a 1D array where each pixel(2D) in the image ends up being the one independent value is a 1D array\n",
    "print('X_batch shape', X_batch.shape)\n",
    "helpers.plt.show_example(X_batch[0],Y_batch[0])\n"
   ]
  },
  {
   "cell_type": "code",
   "execution_count": 8,
   "metadata": {},
   "outputs": [
    {
     "name": "stdout",
     "output_type": "stream",
     "text": [
      "X_batch shape (1, 784)\n"
     ]
    },
    {
     "data": {
      "image/png": "[encoded data removed]",
      "text/plain": [
       "<Figure size 432x288 with 1 Axes>"
      ]
     },
     "metadata": {},
     "output_type": "display_data"
    }
   ],
   "source": [
    "X_batch, Y_batch = helpers.dataset.get_random_batch(X_test,Y_test,1)\n",
    "#took a rabdom picture and converted its 28 by 28 pixel value to a 1D array where each pixel(2D) in the image ends up being the one independent value is a 1D array\n",
    "print('X_batch shape', X_batch.shape)\n",
    "helpers.plt.show_example(X_batch[0],Y_batch[0])"
   ]
  },
  {
   "cell_type": "code",
   "execution_count": 9,
   "metadata": {},
   "outputs": [
    {
     "data": {
      "image/png": "[encoded data removed]",
      "text/plain": [
       "<Figure size 576x288 with 10 Axes>"
      ]
     },
     "metadata": {},
     "output_type": "display_data"
    },
    {
     "name": "stdout",
     "output_type": "stream",
     "text": [
      "(2115, 28, 28)\n",
      "(2115,)\n",
      "(12665, 28, 28)\n",
      "(12665,)\n"
     ]
    }
   ],
   "source": [
    "X_batch,Y_batch = helpers.dataset.get_random_batch(X_train,Y_train,10)\n",
    "helpers.plt.show_ten_examples(X_batch,Y_batch, Y_batch)\n",
    "print(X_test.shape)\n",
    "print(Y_test.shape)\n",
    "print(X_train.shape)\n",
    "print(Y_train.shape)"
   ]
  },
  {
   "cell_type": "markdown",
   "metadata": {},
   "source": [
    "# Task 5: Create Model"
   ]
  },
  {
   "cell_type": "markdown",
   "metadata": {},
   "source": [
    "A logistic model is simply a multi variable linear equation which gives a binary output. The pixel values of our input images are going to be the input features - the independent variables that form the logistic regression equation. And the class label - either 0 or 1 in our case, is the output y."
   ]
  },
  {
   "cell_type": "markdown",
   "metadata": {},
   "source": [
    "\\begin{equation}\n",
    "z = b + w_1x_1 + w_2x_2 + ... + w_N * x_N\n",
    "\\end{equation}\n",
    "\n",
    "\\begin{equation}\n",
    "y = \\sigma(z)\n",
    "\\end{equation}\n",
    "\n",
    "To simplify, we can use vectorized represenation where X is the feature matrix and W is the weight matrix:\n",
    "\n",
    "\\begin{equation}\n",
    "y = \\sigma(W^T.X + b)\n",
    "\\end{equation}\n",
    "\n",
    "<CENTER><B>R_NOTE  =  We have x as pixels dataset and y as a output. Now we need to find suitable weights and b such that exquation holds true. </B></CENTER>\n",
    "\n",
    "\n",
    "\n",
    "\n",
    "\n"
   ]
  },
  {
   "cell_type": "code",
   "execution_count": 10,
   "metadata": {},
   "outputs": [
    {
     "name": "stdout",
     "output_type": "stream",
     "text": [
      "=================================\n",
      "Number of features: 784\n",
      "Shape of weights: (784, 1)\n",
      "Shape of biases: (1, 1)\n",
      "=================================\n"
     ]
    }
   ],
   "source": [
    "class LogisticModel:\n",
    "    def __init__(self, num_features):\n",
    "        \n",
    "        self.W = np.reshape(np.random.randn((num_features)), (num_features,1))\n",
    "        #First we have created a random weights array then reshapes into a coloumn vector.\n",
    "        self.b = np.zeros((1,1))\n",
    "        self.num_features = num_features\n",
    "        self.losses = []\n",
    "        self.accuracies = []\n",
    "        \n",
    "        \n",
    "    def summary(self):\n",
    "        print('=================================')\n",
    "        print('Number of features:', self.num_features)\n",
    "        print('Shape of weights:', self.W.shape)\n",
    "        print('Shape of biases:', self.b.shape)\n",
    "        print('=================================')\n",
    " \n",
    "# Your code here\n",
    "model = LogisticModel(num_features = 784)\n",
    "model.summary()"
   ]
  },
  {
   "cell_type": "markdown",
   "metadata": {},
   "source": [
    "# Task 5: Forward Pass"
   ]
  },
  {
   "cell_type": "markdown",
   "metadata": {},
   "source": [
    "For a single training example, the loss should be:\n",
    "\n",
    "\\begin{equation}\n",
    "L(y, \\hat{y}) = -(y * log(\\hat{y}) + (1 - y) * log(1 - \\hat{y}))\n",
    "\\end{equation}"
   ]
  },
  {
   "cell_type": "code",
   "execution_count": 31,
   "metadata": {},
   "outputs": [],
   "source": [
    "class LogisticModel(LogisticModel):\n",
    "    def _forward_pass(self, X, Y=None):\n",
    "        #_ indicates that we can't access it outside the class unlike summary function\n",
    "        batch_size = X.shape[0]\n",
    "        \n",
    "        Z = np.dot(X,self.W) + self.b\n",
    "        print(\"w shape\" , self.W.shape)\n",
    "        print(\"x shape\", X.shape)\n",
    "        print(\"z shape\", Z.shape)\n",
    "        #W is a coloum matrix therefore we have not taken tanspose\n",
    "        A = 1./(1. + np.exp(-Z))\n",
    "        print(A.shape)\n",
    "        loss = float(1e6)\n",
    "        # minimizes the loss predictions are going to be more accurate\n",
    "        if Y is not None:\n",
    "            loss = -1*np.sum(np.dot(np.transpose(Y),np.log(A)) + \\\n",
    "                            np.matmul(np.transpose(1-Y), np.log(1-A)))\n",
    "            loss/= batch_size\n",
    "        return A,loss\n",
    "        # Your code here"
   ]
  },
  {
   "cell_type": "markdown",
   "metadata": {},
   "source": [
    "\n",
    "# Task 6: Backward Pass"
   ]
  },
  {
   "cell_type": "code",
   "execution_count": 32,
   "metadata": {},
   "outputs": [],
   "source": [
    "class LogisticModel(LogisticModel):\n",
    "    def _backward_pass(self, A, X, Y):\n",
    "        # Your code here\n",
    "        batch_size = X.shape[0]\n",
    "        dZ = A-Y\n",
    "        dW = np.dot(np.transpose(X), dZ) / batch_size\n",
    "        db = np.sum(dZ, axis=1, keepdims=True) / batch_size\n",
    "        return dW,db\n",
    "        "
   ]
  },
  {
   "cell_type": "markdown",
   "metadata": {},
   "source": [
    "# Task 7: Update Parameters"
   ]
  },
  {
   "cell_type": "code",
   "execution_count": 33,
   "metadata": {},
   "outputs": [],
   "source": [
    "class LogisticModel(LogisticModel):\n",
    "    def _update_params(self, dW, db, lr):\n",
    "        # Your code here\n",
    "        self.W -= lr*dW\n",
    "        self.b -= lr*db"
   ]
  },
  {
   "cell_type": "markdown",
   "metadata": {},
   "source": [
    "# Task 8: Check Model Performance"
   ]
  },
  {
   "cell_type": "code",
   "execution_count": 34,
   "metadata": {},
   "outputs": [],
   "source": [
    "\n",
    "class LogisticModel(LogisticModel):\n",
    "    def predict(self, X, Y=None):\n",
    "        # Your code here\n",
    "        A,loss = self._forward_pass(X,Y)\n",
    "        Y_hat = A > 0.5 \n",
    "        return np.squeeze(Y_hat),loss\n",
    "        #squeeze is used to remove to additional dimensions.\n",
    "    \n",
    "    def evaluate(self, X, Y):\n",
    "        # Your code here\n",
    "        Y_hat,loss = self.predict(X,Y)\n",
    "        accuracy = np.sum(Y_hat == np.squeeze(Y))/X.shape[0]\n",
    "        return accuracy,loss\n",
    "    "
   ]
  },
  {
   "cell_type": "code",
   "execution_count": 35,
   "metadata": {},
   "outputs": [
    {
     "name": "stdout",
     "output_type": "stream",
     "text": [
      "=================================\n",
      "Number of features: 784\n",
      "Shape of weights: (784, 1)\n",
      "Shape of biases: (1, 1)\n",
      "=================================\n",
      "xx (300, 784)\n",
      "yy (300, 1)\n",
      "w shape (784, 1)\n",
      "x shape (300, 784)\n",
      "z shape (300, 1)\n",
      "(300, 1)\n",
      "(2115, 28, 28)\n",
      "Untrained model accuracy: 0.62, loss: 2.422155062243294\n"
     ]
    }
   ],
   "source": [
    "model = LogisticModel(784)\n",
    "model.summary()\n",
    "\n",
    "X,Y = helpers.dataset.get_random_batch(X_test,Y_test,batch_size)\n",
    "print(\"xx\",X.shape)\n",
    "print(\"yy\",Y.shape)\n",
    "acc,loss = model.evaluate(X,Y)\n",
    "print(X_test.shape)\n",
    "#print(Y_test.shape)\n",
    "print('Untrained model accuracy: {}, loss: {}'.format(acc,loss))"
   ]
  },
  {
   "cell_type": "code",
   "execution_count": 16,
   "metadata": {},
   "outputs": [
    {
     "name": "stdout",
     "output_type": "stream",
     "text": [
      "w shape (784, 1)\n",
      "(300, 784)\n",
      "(300, 1)\n",
      "(300, 1)\n"
     ]
    },
    {
     "data": {
      "image/png": "[encoded data removed]",
      "text/plain": [
       "<Figure size 576x288 with 10 Axes>"
      ]
     },
     "metadata": {},
     "output_type": "display_data"
    }
   ],
   "source": [
    "preds,_ = model.predict(X)\n",
    "helpers.plt.show_ten_examples(X,Y,preds)"
   ]
  },
  {
   "cell_type": "markdown",
   "metadata": {},
   "source": [
    "# Task 9: Training Loop"
   ]
  },
  {
   "cell_type": "code",
   "execution_count": 17,
   "metadata": {},
   "outputs": [],
   "source": [
    "class LogisticModel(LogisticModel):\n",
    "    def train(self, batch_size, get_batch, lr, iterations, X_train, Y_train, X_test, Y_test):\n",
    "        # Your code here\n",
    "        print(\"Training\")\n",
    "        self.accuracies = []\n",
    "        self.losses=[]\n",
    "        \n",
    "        for i in range(iterations):\n",
    "            X,Y = get_batch(X_train,Y_train, batch_size)\n",
    "            A,_ = self._forward_pass(X,Y)\n",
    "            dW,db = self._backward_pass(A,X,Y)\n",
    "            self._update_params(dW, db, lr)\n",
    "            \n",
    "            X,Y = get_batch(X_test,Y_test,batch_size)\n",
    "            val_acc,val_loss = self.evaluate(X,Y)\n",
    "            self.accuracies.append(val_acc)\n",
    "            self.losses.append(val_loss)\n",
    "            print(\"Iter: {}, Val Acc: {:.3f}, Val_Loss: {:.3f}\")\n",
    "        print(\"Training is finished\")"
   ]
  },
  {
   "cell_type": "markdown",
   "metadata": {},
   "source": [
    "\n",
    "# Task 10: Training the Model"
   ]
  },
  {
   "cell_type": "code",
   "execution_count": 18,
   "metadata": {},
   "outputs": [
    {
     "name": "stdout",
     "output_type": "stream",
     "text": [
      "w shape (784, 1)\n",
      "(300, 784)\n",
      "(300, 1)\n",
      "(300, 1)\n",
      "Before Training Performance is:  (0.43, 3.4997410351941842)\n",
      "Training\n",
      "w shape (784, 1)\n",
      "(300, 784)\n",
      "(300, 1)\n",
      "(300, 1)\n"
     ]
    },
    {
     "ename": "ValueError",
     "evalue": "non-broadcastable output operand with shape (1,1) doesn't match the broadcast shape (300,1)",
     "output_type": "error",
     "traceback": [
      "\u001b[0;31m---------------------------------------------------------------------------\u001b[0m",
      "\u001b[0;31mValueError\u001b[0m                                Traceback (most recent call last)",
      "\u001b[0;32m<ipython-input-18-7ef49039e812>\u001b[0m in \u001b[0;36m<module>\u001b[0;34m\u001b[0m\n\u001b[1;32m     10\u001b[0m             \u001b[0miterations\u001b[0m\u001b[0;34m,\u001b[0m\u001b[0;34m\u001b[0m\u001b[0;34m\u001b[0m\u001b[0m\n\u001b[1;32m     11\u001b[0m             \u001b[0mX_train\u001b[0m\u001b[0;34m,\u001b[0m\u001b[0mY_train\u001b[0m\u001b[0;34m,\u001b[0m\u001b[0;34m\u001b[0m\u001b[0;34m\u001b[0m\u001b[0m\n\u001b[0;32m---> 12\u001b[0;31m             \u001b[0mX_test\u001b[0m\u001b[0;34m,\u001b[0m\u001b[0mY_test\u001b[0m\u001b[0;34m\u001b[0m\u001b[0;34m\u001b[0m\u001b[0m\n\u001b[0m\u001b[1;32m     13\u001b[0m             )\n\u001b[1;32m     14\u001b[0m \u001b[0mprint\u001b[0m\u001b[0;34m(\u001b[0m\u001b[0;34m\"After Training Performance is: \"\u001b[0m\u001b[0;34m,\u001b[0m \u001b[0mmodel\u001b[0m\u001b[0;34m.\u001b[0m\u001b[0mevaluate\u001b[0m\u001b[0;34m(\u001b[0m\u001b[0mX\u001b[0m\u001b[0;34m,\u001b[0m\u001b[0mY\u001b[0m\u001b[0;34m)\u001b[0m\u001b[0;34m)\u001b[0m\u001b[0;34m\u001b[0m\u001b[0;34m\u001b[0m\u001b[0m\n",
      "\u001b[0;32m<ipython-input-17-32f44385b67c>\u001b[0m in \u001b[0;36mtrain\u001b[0;34m(self, batch_size, get_batch, lr, iterations, X_train, Y_train, X_test, Y_test)\u001b[0m\n\u001b[1;32m     10\u001b[0m             \u001b[0mA\u001b[0m\u001b[0;34m,\u001b[0m\u001b[0m_\u001b[0m \u001b[0;34m=\u001b[0m \u001b[0mself\u001b[0m\u001b[0;34m.\u001b[0m\u001b[0m_forward_pass\u001b[0m\u001b[0;34m(\u001b[0m\u001b[0mX\u001b[0m\u001b[0;34m,\u001b[0m\u001b[0mY\u001b[0m\u001b[0;34m)\u001b[0m\u001b[0;34m\u001b[0m\u001b[0;34m\u001b[0m\u001b[0m\n\u001b[1;32m     11\u001b[0m             \u001b[0mdW\u001b[0m\u001b[0;34m,\u001b[0m\u001b[0mdb\u001b[0m \u001b[0;34m=\u001b[0m \u001b[0mself\u001b[0m\u001b[0;34m.\u001b[0m\u001b[0m_backward_pass\u001b[0m\u001b[0;34m(\u001b[0m\u001b[0mA\u001b[0m\u001b[0;34m,\u001b[0m\u001b[0mX\u001b[0m\u001b[0;34m,\u001b[0m\u001b[0mY\u001b[0m\u001b[0;34m)\u001b[0m\u001b[0;34m\u001b[0m\u001b[0;34m\u001b[0m\u001b[0m\n\u001b[0;32m---> 12\u001b[0;31m             \u001b[0mself\u001b[0m\u001b[0;34m.\u001b[0m\u001b[0m_update_params\u001b[0m\u001b[0;34m(\u001b[0m\u001b[0mdW\u001b[0m\u001b[0;34m,\u001b[0m \u001b[0mdb\u001b[0m\u001b[0;34m,\u001b[0m \u001b[0mlr\u001b[0m\u001b[0;34m)\u001b[0m\u001b[0;34m\u001b[0m\u001b[0;34m\u001b[0m\u001b[0m\n\u001b[0m\u001b[1;32m     13\u001b[0m \u001b[0;34m\u001b[0m\u001b[0m\n\u001b[1;32m     14\u001b[0m             \u001b[0mX\u001b[0m\u001b[0;34m,\u001b[0m\u001b[0mY\u001b[0m \u001b[0;34m=\u001b[0m \u001b[0mget_batch\u001b[0m\u001b[0;34m(\u001b[0m\u001b[0mX_test\u001b[0m\u001b[0;34m,\u001b[0m\u001b[0mY_test\u001b[0m\u001b[0;34m,\u001b[0m\u001b[0mbatch_size\u001b[0m\u001b[0;34m)\u001b[0m\u001b[0;34m\u001b[0m\u001b[0;34m\u001b[0m\u001b[0m\n",
      "\u001b[0;32m<ipython-input-13-0ac9573566dc>\u001b[0m in \u001b[0;36m_update_params\u001b[0;34m(self, dW, db, lr)\u001b[0m\n\u001b[1;32m      3\u001b[0m         \u001b[0;31m# Your code here\u001b[0m\u001b[0;34m\u001b[0m\u001b[0;34m\u001b[0m\u001b[0;34m\u001b[0m\u001b[0m\n\u001b[1;32m      4\u001b[0m         \u001b[0mself\u001b[0m\u001b[0;34m.\u001b[0m\u001b[0mW\u001b[0m \u001b[0;34m-=\u001b[0m \u001b[0mlr\u001b[0m\u001b[0;34m*\u001b[0m\u001b[0mdW\u001b[0m\u001b[0;34m\u001b[0m\u001b[0;34m\u001b[0m\u001b[0m\n\u001b[0;32m----> 5\u001b[0;31m         \u001b[0mself\u001b[0m\u001b[0;34m.\u001b[0m\u001b[0mb\u001b[0m \u001b[0;34m-=\u001b[0m \u001b[0mlr\u001b[0m\u001b[0;34m*\u001b[0m\u001b[0mdb\u001b[0m\u001b[0;34m\u001b[0m\u001b[0;34m\u001b[0m\u001b[0m\n\u001b[0m",
      "\u001b[0;31mValueError\u001b[0m: non-broadcastable output operand with shape (1,1) doesn't match the broadcast shape (300,1)"
     ]
    }
   ],
   "source": [
    "model = LogisticModel(784)\n",
    "\n",
    "X,Y=helpers.dataset.get_random_batch(X_test,Y_test,batch_size)\n",
    "print(\"Before Training Performance is: \",model.evaluate(X,Y))\n",
    "\n",
    "model.train(\n",
    "            batch_size, \n",
    "            helpers.dataset.get_random_batch, \n",
    "            lr, \n",
    "            iterations, \n",
    "            X_train,Y_train, \n",
    "            X_test,Y_test\n",
    "            )\n",
    "print(\"After Training Performance is: \", model.evaluate(X,Y))"
   ]
  },
  {
   "cell_type": "markdown",
   "metadata": {},
   "source": [
    "# Task 11: Display the Results"
   ]
  },
  {
   "cell_type": "code",
   "execution_count": null,
   "metadata": {},
   "outputs": [],
   "source": []
  },
  {
   "cell_type": "code",
   "execution_count": null,
   "metadata": {},
   "outputs": [],
   "source": []
  }
 ],
 "metadata": {
  "kernelspec": {
   "display_name": "Python 3",
   "language": "python",
   "name": "python3"
  },
  "language_info": {
   "codemirror_mode": {
    "name": "ipython",
    "version": 3
   },
   "file_extension": ".py",
   "mimetype": "text/x-python",
   "name": "python",
   "nbconvert_exporter": "python",
   "pygments_lexer": "ipython3",
   "version": "3.7.7"
  }
 },
 "nbformat": 4,
 "nbformat_minor": 2
}
